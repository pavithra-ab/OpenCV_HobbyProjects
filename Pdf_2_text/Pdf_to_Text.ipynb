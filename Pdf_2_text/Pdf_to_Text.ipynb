{
 "cells": [
  {
   "cell_type": "code",
   "execution_count": 51,
   "metadata": {},
   "outputs": [],
   "source": [
    "import platform\n",
    "from tempfile import TemporaryDirectory\n",
    "from pathlib import Path"
   ]
  },
  {
   "cell_type": "code",
   "execution_count": 52,
   "metadata": {},
   "outputs": [],
   "source": [
    "import pytesseract\n",
    "from pdf2image import convert_from_path\n",
    "from PIL import Image"
   ]
  },
  {
   "cell_type": "code",
   "execution_count": 53,
   "metadata": {},
   "outputs": [],
   "source": [
    "pytesseract.pytesseract.tesseract_cmd=r'C:\\Program Files\\Tesseract-OCR\\tesseract.exe'"
   ]
  },
  {
   "cell_type": "code",
   "execution_count": 54,
   "metadata": {},
   "outputs": [],
   "source": [
    "path_to_poppler_exe = Path(r\"C:\\Program Files\\poppler-23.08.0\\Library\\bin\")"
   ]
  },
  {
   "cell_type": "code",
   "execution_count": 55,
   "metadata": {},
   "outputs": [],
   "source": [
    "\n",
    "out_directory = Path(r\"F:\\DL Projects\\OpenCVProjects\\OCR\\Pdf_2_text\").expanduser()"
   ]
  },
  {
   "cell_type": "code",
   "execution_count": 56,
   "metadata": {},
   "outputs": [],
   "source": [
    "pdf_file = Path(r\"F:\\DL Projects\\OpenCVProjects\\OCR\\Pdf_2_text\\sample_pdf.pdf\")"
   ]
  },
  {
   "cell_type": "code",
   "execution_count": 57,
   "metadata": {},
   "outputs": [],
   "source": [
    "image_file_list = []"
   ]
  },
  {
   "cell_type": "code",
   "execution_count": 58,
   "metadata": {},
   "outputs": [],
   "source": [
    "text_file = out_directory / Path(\"Output_file.txt\")"
   ]
  },
  {
   "cell_type": "code",
   "execution_count": 59,
   "metadata": {},
   "outputs": [],
   "source": [
    "def main():\n",
    "    with TemporaryDirectory() as tempdir:\n",
    "        pdf_pages = convert_from_path(pdf_file, 500, poppler_path=path_to_poppler_exe)\n",
    "\n",
    "        for page_num, page in enumerate(pdf_pages, start=1):\n",
    "            filename = f\"{tempdir}\\page_{page_num:03}.jpg\"\n",
    "\n",
    "            page.save(filename, 'JPEG')\n",
    "            image_file_list.append(filename)\n",
    "        \n",
    "        with open(text_file, 'a') as output_file:\n",
    "\n",
    "            for img_file in image_file_list:\n",
    "                \n",
    "                text = str((pytesseract.image_to_string(Image.open(img_file))))\n",
    "                text = text.replace(\"-\\n\", \"\")\n",
    "                output_file.write(text)\n",
    "\n"
   ]
  },
  {
   "cell_type": "code",
   "execution_count": 60,
   "metadata": {},
   "outputs": [],
   "source": [
    "if __name__ == \"__main__\":\n",
    "    main()"
   ]
  }
 ],
 "metadata": {
  "kernelspec": {
   "display_name": "Python 3",
   "language": "python",
   "name": "python3"
  },
  "language_info": {
   "codemirror_mode": {
    "name": "ipython",
    "version": 3
   },
   "file_extension": ".py",
   "mimetype": "text/x-python",
   "name": "python",
   "nbconvert_exporter": "python",
   "pygments_lexer": "ipython3",
   "version": "3.11.2"
  },
  "orig_nbformat": 4
 },
 "nbformat": 4,
 "nbformat_minor": 2
}
