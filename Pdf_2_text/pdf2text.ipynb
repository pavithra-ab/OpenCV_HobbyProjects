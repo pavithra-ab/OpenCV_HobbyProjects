{
 "cells": [
  {
   "cell_type": "code",
   "execution_count": 12,
   "metadata": {},
   "outputs": [],
   "source": [
    "import platform\n",
    "from tempfile import TemporaryDirectory\n",
    "from pathlib import Path"
   ]
  },
  {
   "cell_type": "code",
   "execution_count": 13,
   "metadata": {},
   "outputs": [],
   "source": [
    "import pytesseract\n",
    "from pdf2image import convert_from_path\n",
    "from PIL import Image"
   ]
  },
  {
   "cell_type": "code",
   "execution_count": 14,
   "metadata": {},
   "outputs": [],
   "source": [
    "if platform.system() == \"Windows\":\n",
    "    \n",
    "    pytesseract.pytesseract.tesseract_cmd=r'C:\\Program Files\\Tesseract-OCR\\tesseract.exe'\n",
    " \n",
    "    # Windows also needs poppler_exe\n",
    "    path_to_poppler_exe = Path(r\"C:\\Program Files\\poppler-23.08.0\\Library\\bin\")\n",
    "     \n",
    "    # Put our output files in a sane place...\n",
    "    out_directory = Path(r\"~\\Desktop\").expanduser()\n",
    "else:\n",
    "    out_directory = Path(\"~\").expanduser()    \n",
    " "
   ]
  },
  {
   "cell_type": "code",
   "execution_count": 15,
   "metadata": {},
   "outputs": [],
   "source": [
    "pdf = Path(r\"F:\\DL Projects\\OpenCVProjects\\OCR\\sample_pdf.pdf\")"
   ]
  },
  {
   "cell_type": "code",
   "execution_count": 16,
   "metadata": {},
   "outputs": [],
   "source": [
    "image_file_list = []"
   ]
  },
  {
   "cell_type": "code",
   "execution_count": 17,
   "metadata": {},
   "outputs": [],
   "source": [
    "text_file = out_directory / Path(\"Out_text.txt\")"
   ]
  },
  {
   "cell_type": "code",
   "execution_count": 18,
   "metadata": {},
   "outputs": [],
   "source": [
    "def main():\n",
    "    ''' Main execution point of the program'''\n",
    "    with TemporaryDirectory() as tempdir:\n",
    "        # Create a temporary directory to hold our temporary images.\n",
    " \n",
    "        \"\"\"\n",
    "        Part #1 : Converting PDF to images\n",
    "        \"\"\"\n",
    " \n",
    "        if platform.system() == \"Windows\":\n",
    "            pdf_pages = convert_from_path(\n",
    "                pdf, 500, poppler_path=path_to_poppler_exe\n",
    "            )\n",
    "        else:\n",
    "            pdf_pages = convert_from_path(pdf, 500)\n",
    "        # Read in the PDF file at 500 DPI\n",
    " \n",
    "        # Iterate through all the pages stored above\n",
    "        for page_enumeration, page in enumerate(pdf_pages, start=1):\n",
    "            # enumerate() \"counts\" the pages for us.\n",
    " \n",
    "            # Create a file name to store the image\n",
    "            filename = f\"{tempdir}\\page_{page_enumeration:03}.jpg\"\n",
    " \n",
    "            # Declaring filename for each page of PDF as JPG\n",
    "            # For each page, filename will be:\n",
    "            # PDF page 1 -> page_001.jpg\n",
    "            # PDF page 2 -> page_002.jpg\n",
    "            # PDF page 3 -> page_003.jpg\n",
    "            # ....\n",
    "            # PDF page n -> page_00n.jpg\n",
    " \n",
    "            # Save the image of the page in system\n",
    "            page.save(filename, \"JPEG\")\n",
    "            image_file_list.append(filename)\n",
    " \n",
    "        \"\"\"\n",
    "        Part #2 - Recognizing text from the images using OCR\n",
    "        \"\"\"\n",
    " \n",
    "        with open(text_file, \"a\") as output_file:\n",
    "            # Open the file in append mode so that\n",
    "            # All contents of all images are added to the same file\n",
    " \n",
    "            # Iterate from 1 to total number of pages\n",
    "            for image_file in image_file_list:\n",
    " \n",
    "                # Set filename to recognize text from\n",
    "                # Again, these files will be:\n",
    "                # page_1.jpg\n",
    "                # page_2.jpg\n",
    "                # ....\n",
    "                # page_n.jpg\n",
    " \n",
    "                # Recognize the text as string in image using pytesserct\n",
    "                text = str(((pytesseract.image_to_string(Image.open(image_file)))))\n",
    " \n",
    "                # The recognized text is stored in variable text\n",
    "                # Any string processing may be applied on text\n",
    "                # Here, basic formatting has been done:\n",
    "                # In many PDFs, at line ending, if a word can't\n",
    "                # be written fully, a 'hyphen' is added.\n",
    "                # The rest of the word is written in the next line\n",
    "                # Eg: This is a sample text this word here GeeksF-\n",
    "                # orGeeks is half on first line, remaining on next.\n",
    "                # To remove this, we replace every '-\\n' to ''.\n",
    "                text = text.replace(\"-\\n\", \"\")\n",
    " \n",
    "                # Finally, write the processed text to the file.\n",
    "                output_file.write(text)\n",
    " \n",
    "            # At the end of the with .. output_file block\n",
    "            # the file is closed after writing all the text.\n",
    "        # At the end of the with .. tempdir block, the\n",
    "        # TemporaryDirectory() we're using gets removed!       \n",
    "    # End of main function!\n",
    "     \n",
    "if __name__ == \"__main__\":\n",
    "      # We only want to run this if it's directly executed!\n",
    "    main()"
   ]
  }
 ],
 "metadata": {
  "kernelspec": {
   "display_name": "Python 3",
   "language": "python",
   "name": "python3"
  },
  "language_info": {
   "codemirror_mode": {
    "name": "ipython",
    "version": 3
   },
   "file_extension": ".py",
   "mimetype": "text/x-python",
   "name": "python",
   "nbconvert_exporter": "python",
   "pygments_lexer": "ipython3",
   "version": "3.11.2"
  },
  "orig_nbformat": 4
 },
 "nbformat": 4,
 "nbformat_minor": 2
}
