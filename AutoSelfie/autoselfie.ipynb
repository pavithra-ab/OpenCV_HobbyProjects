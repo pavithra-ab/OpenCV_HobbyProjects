{
 "cells": [
  {
   "cell_type": "code",
   "execution_count": 1,
   "metadata": {},
   "outputs": [],
   "source": [
    "import cv2\n",
    "import datetime"
   ]
  },
  {
   "cell_type": "code",
   "execution_count": 2,
   "metadata": {},
   "outputs": [],
   "source": [
    "face_cas = cv2.CascadeClassifier(r\"F:\\DL Projects\\OpenCVProjects\\AutoSelfie\\haarcascade_frontalface_default.xml\")\n",
    "eye_cas = cv2.CascadeClassifier(r\"F:\\DL Projects\\OpenCVProjects\\AutoSelfie\\haarcascade_eye.xml\")\n",
    "smile_cas = cv2.CascadeClassifier(r\"F:\\DL Projects\\OpenCVProjects\\AutoSelfie\\haarcascade_smile.xml\")"
   ]
  },
  {
   "cell_type": "code",
   "execution_count": 3,
   "metadata": {},
   "outputs": [],
   "source": [
    "cap = cv2.VideoCapture(0)\n",
    "\n",
    "while True:\n",
    "    _, frame = cap.read()\n",
    "    gray = cv2.cvtColor(frame, cv2.COLOR_BGR2GRAY)\n",
    "    face = face_cas.detectMultiScale(gray, 1.3, 4)\n",
    "    for x, y, w, h in face:\n",
    "        #cv2.rectangle(frame, (x,y), (x+w, y+h), (0, 255, 255), 2)\n",
    "        face_roi = frame[x:x+w, y:y+h]\n",
    "        gray_roi = gray[x:x+w, y:y+h]\n",
    "        eye = eye_cas.detectMultiScale(gray_roi, 1.3, 50)\n",
    "        for x1, y1, w1, h1 in eye:\n",
    "            #cv2.rectangle(face_roi, (x1, y1), (x1+w1, y1+h1), (0, 0, 255), 2)\n",
    "            smile = smile_cas.detectMultiScale(gray_roi, 1.3, 25)\n",
    "            for x1, y1, w1, h1 in smile:\n",
    "                #cv2.rectangle(face_roi, (x1, y1), (x1+w1, y1+h1), (0, 0, 255), 2)\n",
    "                timestamp = datetime.datetime.now().strftime('%Y-%m-%d-%H-%M-%S')\n",
    "                filename = f'selfie-{timestamp}.png'\n",
    "                cv2.imwrite(filename, frame)\n",
    "                #speak(\"Selfie taken\")\n",
    "\n",
    "    cv2.imshow('cam star', frame)\n",
    "    if cv2.waitKey(10) == ord('q'):\n",
    "        break"
   ]
  },
  {
   "cell_type": "code",
   "execution_count": 4,
   "metadata": {},
   "outputs": [
    {
     "ename": "",
     "evalue": "",
     "output_type": "error",
     "traceback": [
      "\u001b[1;31mThe Kernel crashed while executing code in the the current cell or a previous cell. Please review the code in the cell(s) to identify a possible cause of the failure. Click <a href='https://aka.ms/vscodeJupyterKernelCrash'>here</a> for more info. View Jupyter <a href='command:jupyter.viewOutput'>log</a> for further details."
     ]
    }
   ],
   "source": [
    "# video = cv2.VideoCapture(0)\n",
    "# while True:\n",
    "#     success,frame = video.read()\n",
    "#     gray = cv2.cvtColor(frame,cv2.COLOR_BGR2GRAY)\n",
    "#     face = face_cas.detectMultiScale(gray,1.3,4)\n",
    "\n",
    "#     for x,y,w,h in face:\n",
    "#         face_roi = frame[x:x+w,y:y+h]\n",
    "#         gray_roi = gray[x:x+w,y:y+h]\n",
    "        \n",
    "#         eye = eye_cas.detectMultiScale(gray_roi,1.3,50)\n",
    "\n",
    "#         for x1,y1,w1,h1 in eye:\n",
    "#             smile = smile_cas.detectMultiScale(gray_roi,1.3,25)\n",
    "\n",
    "#             for x2,y2,w2,h2 in smile:\n",
    "#                 timestamp = datetime.datetime.now().strftime('%Y-%m-%d-%H-%M-%S')\n",
    "#                 filename = f'selfie-{timestamp}.png'\n",
    "#                 cv2.imwrite(filename,frame)\n",
    "#     cv2.imshow(\"SELFIE\",frame)\n",
    "#     if cv2.waitKey(10) == ord('q'):\n",
    "#         break\n",
    "\n"
   ]
  }
 ],
 "metadata": {
  "kernelspec": {
   "display_name": "Python 3",
   "language": "python",
   "name": "python3"
  },
  "language_info": {
   "codemirror_mode": {
    "name": "ipython",
    "version": 3
   },
   "file_extension": ".py",
   "mimetype": "text/x-python",
   "name": "python",
   "nbconvert_exporter": "python",
   "pygments_lexer": "ipython3",
   "version": "3.11.2"
  },
  "orig_nbformat": 4
 },
 "nbformat": 4,
 "nbformat_minor": 2
}
