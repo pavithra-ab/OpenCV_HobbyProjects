{
 "cells": [
  {
   "cell_type": "code",
   "execution_count": 98,
   "metadata": {},
   "outputs": [],
   "source": [
    "import cv2"
   ]
  },
  {
   "cell_type": "code",
   "execution_count": 99,
   "metadata": {},
   "outputs": [],
   "source": [
    "car_tracker = r\"F:\\DL Projects\\OpenCVProjects\\Car-pedestrian\\cars.xml\"\n",
    "full_body = r\"F:\\DL Projects\\OpenCVProjects\\Car-pedestrian\\haarcascade_fullbody.xml\""
   ]
  },
  {
   "cell_type": "code",
   "execution_count": 100,
   "metadata": {},
   "outputs": [],
   "source": [
    "car_det = cv2.CascadeClassifier(car_tracker)\n",
    "body_det = cv2.CascadeClassifier(full_body)"
   ]
  },
  {
   "cell_type": "code",
   "execution_count": 101,
   "metadata": {},
   "outputs": [],
   "source": [
    "img = cv2.imread(r\"F:\\DL Projects\\OpenCVProjects\\Car-pedestrian\\car3_image.jpg\")\n",
    "gray = cv2.cvtColor(img, cv2.COLOR_BGR2GRAY)\n",
    "det = car_det.detectMultiScale(gray, scaleFactor = 1.1, minNeighbors = 1)\n",
    "ped_det = body_det.detectMultiScale(gray,scaleFactor = 1.1, minNeighbors = 1)\n",
    "\n",
    "\n",
    "for x,y,w,h in det:\n",
    "    cv2.rectangle(img, (x,y),(x+w,y+h),(0,255,0),2)\n",
    "\n",
    "\n",
    "for x,y,w,h in ped_det:\n",
    "    cv2.rectangle(img, (x,y),(x+w,y+h),(0,255,255),2)"
   ]
  },
  {
   "cell_type": "code",
   "execution_count": 102,
   "metadata": {},
   "outputs": [],
   "source": [
    "cv2.imshow(\"Image\",img)\n",
    "\n",
    "cv2.waitKey()\n",
    "cv2.destroyAllWindows()"
   ]
  },
  {
   "cell_type": "code",
   "execution_count": 103,
   "metadata": {},
   "outputs": [],
   "source": [
    "video = cv2.VideoCapture(r\"F:\\DL Projects\\OpenCVProjects\\Car-pedestrian\\Tesla_video.mp4\")"
   ]
  },
  {
   "cell_type": "code",
   "execution_count": 104,
   "metadata": {},
   "outputs": [],
   "source": [
    "\n",
    "while True:\n",
    "    success,frame = video.read()\n",
    "    gray = cv2.cvtColor(frame,cv2.COLOR_BGR2GRAY)\n",
    "    \n",
    "    cars = car_det.detectMultiScale(gray, scaleFactor = 1.1, minNeighbors = 1)\n",
    "    pedestrian = body_det.detectMultiScale(gray, scaleFactor = 1.1, minNeighbors= 1)\n",
    "\n",
    "    for x,y,w,h in cars:\n",
    "        cv2.rectangle(frame,(x,y),(x+w,y+h),(0,255,0),3)\n",
    "    \n",
    "    for x,y,w,h in pedestrian:\n",
    "        cv2.rectangle(frame,(x,y),(x+w,y+h),(0,255,255),3)\n",
    "\n",
    "    cv2.imshow(\"Video\",frame)\n",
    "    if cv2.waitKey(1) & 0XFF == ord('q'):\n",
    "        break\n",
    "video.release()\n",
    "cv2.destroyAllWindows()"
   ]
  }
 ],
 "metadata": {
  "kernelspec": {
   "display_name": "Python 3",
   "language": "python",
   "name": "python3"
  },
  "language_info": {
   "codemirror_mode": {
    "name": "ipython",
    "version": 3
   },
   "file_extension": ".py",
   "mimetype": "text/x-python",
   "name": "python",
   "nbconvert_exporter": "python",
   "pygments_lexer": "ipython3",
   "version": "3.11.2"
  },
  "orig_nbformat": 4
 },
 "nbformat": 4,
 "nbformat_minor": 2
}
